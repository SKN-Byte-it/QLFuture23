{
 "cells": [
  {
   "cell_type": "code",
   "execution_count": 19,
   "metadata": {},
   "outputs": [],
   "source": [
    "from qiskit import QuantumCircuit, transpile\n",
    "from qiskit_aer import AerSimulator\n",
    "from qiskit.visualization import plot_histogram\n",
    "import numpy as np\n",
    "\n",
    "from numpy import pi\n",
    "\n",
    "def probality_to_Rx(probability: float):\n",
    "    return 2 * np.arcsin(np.sqrt(1))                             # !!! tu max\n",
    "               \n",
    "def counts_to_probabilities(counts):\n",
    "    d = dict()\n",
    "    registers = len(list(counts.keys())[0])\n",
    "    for i in range(registers):\n",
    "        d[i] = 0\n",
    "    for k, v in counts.items():\n",
    "        for i, xd in enumerate(k):\n",
    "            if k[i] == '1':\n",
    "                d[registers - i - 1] += v\n",
    "    return d\n",
    "\n"
   ]
  },
  {
   "cell_type": "code",
   "execution_count": 23,
   "metadata": {},
   "outputs": [],
   "source": [
    "# P(flooding) = max(exp(4*hsea – 2))\n",
    "h_sea = 17\n",
    "\n",
    "P_flooding = min(1, np.e ** (4 * h_sea - 2))\n",
    "\n",
    "# P(flooding area|flooding) = max(1, exp( 2*[hsea–harea] ) )\n",
    "f = lambda h_area : min(1, np.e ** (2 * (h_sea - h_area)))\n",
    "h_area_river_shores = 0.5\n",
    "h_area_waterfront = 1\n",
    "h_area_shopping = 2\n",
    "h_area_tourist = 2\n",
    "h_area_recreational = 1.5\n",
    "P_flooding_river_shores = f(h_area_river_shores)\n",
    "P_flooding_waterfront = f(h_area_waterfront)\n",
    "P_flooding_shopping = f(h_area_shopping)\n",
    "P_flooding_tourist = f(h_area_tourist)\n",
    "P_flooding_recreational = f(h_area_tourist)\n",
    "\n",
    "names = [\n",
    "    'Flooding',\n",
    "    'River shores flooding',\n",
    "    'Waterfront flooding',\n",
    "    'Flooding of the promenade',\n",
    "    'Flooding the yard',\n",
    "    'Flooding of shopping area',\n",
    "    'Buildings inundation',\n",
    "    'Flooding of tourist area',\n",
    "    'Destruction of hotels',\n",
    "    'Flooding of recreational areas'\n",
    "]\n",
    "\n",
    "costs_per_area = {\n",
    "    'Flooding': 200,\n",
    "    'River shores flooding': 70,\n",
    "    'Waterfront flooding': 150,\n",
    "    'Flooding of the promenade': 240,\n",
    "    'Flooding the yard': 950,\n",
    "    'Flooding of shopping area': 170,\n",
    "    'Buildings inundation': 800,\n",
    "    'Flooding of tourist area': 200,\n",
    "    'Destruction of hotels': 1_200,\n",
    "    'Flooding of recreational areas': 500\n",
    "}\n",
    "\n",
    "shots = 1000\n"
   ]
  },
  {
   "cell_type": "code",
   "execution_count": 24,
   "metadata": {},
   "outputs": [],
   "source": [
    "# Use Aer's AerSimulator\n",
    "simulator = AerSimulator()\n",
    "\n",
    "# Create a Quantum Circuit acting on the q register\n",
    "circuit = QuantumCircuit(10, 10)\n",
    "\n",
    "circuit.rx(probality_to_Rx(P_flooding), 0)                   # 0 Flooding\n",
    "circuit.crx(probality_to_Rx(P_flooding_river_shores), 0, 1)  # 1 * River shores flooding\n",
    "circuit.crx(probality_to_Rx(P_flooding_waterfront), 0, 2)    # 2 * Waterfront flooding\n",
    "circuit.crx(probality_to_Rx(0.75), 2, 3)                     # 3 * * 75% Flooding of the promenade\n",
    "circuit.crx(probality_to_Rx(0.50), 2, 4)                     # 4 * * 50% Flooding the yard\n",
    "circuit.crx(probality_to_Rx(P_flooding_shopping), 0, 5)      # 5 * Flooding of shopping area\n",
    "circuit.crx(probality_to_Rx(0.80), 5, 6)                     # 6 * * 80% Buildings inundation\n",
    "circuit.crx(probality_to_Rx(P_flooding_tourist), 0, 7)       # 7 * Flooding of tourist area\n",
    "circuit.crx(probality_to_Rx(0.60), 7, 8)                     # 8 * * 60% Destruction of hotels\n",
    "circuit.crx(probality_to_Rx(P_flooding_recreational), 0, 9)  # 9 * Flooding of recreational areas\n",
    "\n",
    "# Add a CX (CNOT) gate on control qubit 0 and target qubit 1\n",
    "\n",
    "# Map the quantum measurement to the classical bits\n",
    "circuit.barrier()\n",
    "circuit.measure(list(range(10)), list(range(10)))\n",
    "\n",
    "# Compile the circuit for the support instruction set (basis_gates)\n",
    "# and topology (coupling_map) of the backend\n",
    "compiled_circuit = transpile(circuit, simulator)\n",
    "\n",
    "job = simulator.run(compiled_circuit, shots=shots)\n",
    "\n",
    "# Grab results from the job\n",
    "result = job.result()\n",
    "\n",
    "# Returns counts\n",
    "counts = result.get_counts(compiled_circuit)"
   ]
  },
  {
   "cell_type": "code",
   "execution_count": 25,
   "metadata": {},
   "outputs": [
    {
     "name": "stdout",
     "output_type": "stream",
     "text": [
      "{0: 100.0, 1: 100.0, 2: 100.0, 3: 100.0, 4: 100.0, 5: 100.0, 6: 100.0, 7: 100.0, 8: 100.0, 9: 100.0} \n",
      "\n",
      "{'Flooding': 1.0, 'River shores flooding': 1.0, 'Waterfront flooding': 1.0, 'Flooding of the promenade': 1.0, 'Flooding the yard': 1.0, 'Flooding of shopping area': 1.0, 'Buildings inundation': 1.0, 'Flooding of tourist area': 1.0, 'Destruction of hotels': 1.0, 'Flooding of recreational areas': 1.0} \n",
      "\n",
      "Cost: 4480.0 mln zł!!!!\n"
     ]
    }
   ],
   "source": [
    "props = counts_to_probabilities(counts)\n",
    "for i in props:\n",
    "    props[i] /= shots / 100\n",
    "    \n",
    "props2 = dict()\n",
    "for k, v in props.items():\n",
    "    props2[names[k]] = v / 100\n",
    "\n",
    "expected_costs = 0\n",
    "for k, v in props2.items():\n",
    "    expected_costs += costs_per_area[k] * v\n",
    "    \n",
    "print(props, \"\\n\")\n",
    "print(props2, \"\\n\")\n",
    "print(f'Cost: {expected_costs} mln zł!!!!')"
   ]
  },
  {
   "cell_type": "code",
   "execution_count": null,
   "metadata": {},
   "outputs": [],
   "source": []
  },
  {
   "cell_type": "code",
   "execution_count": null,
   "metadata": {},
   "outputs": [],
   "source": []
  }
 ],
 "metadata": {
  "kernelspec": {
   "display_name": "Python 3 (ipykernel)",
   "language": "python",
   "name": "python3"
  },
  "language_info": {
   "codemirror_mode": {
    "name": "ipython",
    "version": 3
   },
   "file_extension": ".py",
   "mimetype": "text/x-python",
   "name": "python",
   "nbconvert_exporter": "python",
   "pygments_lexer": "ipython3",
   "version": "3.10.9"
  }
 },
 "nbformat": 4,
 "nbformat_minor": 2
}
