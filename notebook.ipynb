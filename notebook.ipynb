{
 "cells": [
  {
   "cell_type": "code",
   "execution_count": 1,
   "metadata": {},
   "outputs": [],
   "source": [
    "import numpy as np\n",
    "\n",
    "def probality_to_Rx(probability: float):\n",
    "    return 2 * np.arcsin(np.sqrt(probability))"
   ]
  },
  {
   "cell_type": "code",
   "execution_count": 2,
   "metadata": {},
   "outputs": [],
   "source": [
    "from qiskit import QuantumCircuit, transpile\n",
    "from qiskit_aer import AerSimulator\n",
    "from qiskit.visualization import plot_histogram\n",
    "from numpy import pi\n",
    "\n",
    "# Use Aer's AerSimulator\n",
    "simulator = AerSimulator()\n",
    "\n",
    "# Create a Quantum Circuit acting on the q register\n",
    "circuit = QuantumCircuit(10, 10)\n",
    "\n",
    "# P(flooding) = max(exp(4*hsea – 2))\n",
    "h_sea = 0.1\n",
    "P_flooding = min(1, np.e ** (4 * h_sea - 2))\n",
    "\n",
    "# P(flooding area|flooding) = max(1, exp( 2*[hsea–harea] ) )\n",
    "f = lambda h_area : min(1, np.e ** (2 * (h_sea - h_area)))\n",
    "h_area_river_shores = 0.5\n",
    "h_area_waterfront = 1\n",
    "h_area_shopping = 2\n",
    "h_area_tourist = 2\n",
    "h_area_recreational = 1.5\n",
    "P_flooding_river_shores = f(h_area_river_shores)\n",
    "P_flooding_waterfront = f(h_area_waterfront)\n",
    "P_flooding_shopping = f(h_area_shopping)\n",
    "P_flooding_tourist = f(h_area_tourist)\n",
    "P_flooding_recreational = f(h_area_tourist)\n",
    "\n",
    "circuit.rx(probality_to_Rx(P_flooding), 0)                   # 0 Flooding\n",
    "circuit.crx(probality_to_Rx(P_flooding_river_shores), 0, 1)  # 1 * River shores flooding\n",
    "circuit.crx(probality_to_Rx(P_flooding_waterfront), 0, 2)    # 2 * Waterfront flooding\n",
    "circuit.crx(probality_to_Rx(0.75), 2, 3)                     # 3 * * 75% Flooding of the promenade\n",
    "circuit.crx(probality_to_Rx(0.50), 2, 4)                     # 4 * * 50% Flooding the yard\n",
    "circuit.crx(probality_to_Rx(P_flooding_shopping), 0, 5)      # 5 * Flooding of shopping area\n",
    "circuit.crx(probality_to_Rx(0.80), 5, 6)                     # 6 * * 80% Buildings inundation\n",
    "circuit.crx(probality_to_Rx(P_flooding_tourist), 0, 7)       # 7 * Flooding of tourist area\n",
    "circuit.crx(probality_to_Rx(0.60), 7, 8)                     # 8 * * 60% Destruction of hotels\n",
    "circuit.crx(probality_to_Rx(P_flooding_recreational), 0, 9)  # 9 * Flooding of recreational areas\n",
    "\n",
    "# Add a CX (CNOT) gate on control qubit 0 and target qubit 1\n",
    "\n",
    "# Map the quantum measurement to the classical bits\n",
    "circuit.barrier()\n",
    "circuit.measure(list(range(10)), list(range(10)))\n",
    "\n",
    "# Compile the circuit for the support instruction set (basis_gates)\n",
    "# and topology (coupling_map) of the backend\n",
    "compiled_circuit = transpile(circuit, simulator)\n",
    "\n",
    "# Execute the circuit on the aer simulator\n",
    "shots = 1000\n",
    "job = simulator.run(compiled_circuit, shots=shots)\n",
    "\n",
    "# Grab results from the job\n",
    "result = job.result()\n",
    "\n",
    "# Returns counts\n",
    "counts = result.get_counts(compiled_circuit)\n",
    "\n",
    "# Draw the circuit\n",
    "# circuit.draw(\"mpl\")"
   ]
  },
  {
   "cell_type": "code",
   "execution_count": 3,
   "metadata": {},
   "outputs": [
    {
     "data": {
      "text/plain": [
       "{0: 20.1,\n",
       " 1: 8.5,\n",
       " 2: 3.6,\n",
       " 3: 2.8,\n",
       " 4: 1.5,\n",
       " 5: 0.4,\n",
       " 6: 0.4,\n",
       " 7: 0.8,\n",
       " 8: 0.4,\n",
       " 9: 0.5}"
      ]
     },
     "execution_count": 3,
     "metadata": {},
     "output_type": "execute_result"
    }
   ],
   "source": [
    "def counts_to_probabilities(counts):\n",
    "    d = dict()\n",
    "    registers = len(list(counts.keys())[0])\n",
    "    for i in range(registers):\n",
    "        d[i] = 0\n",
    "    for k, v in counts.items():\n",
    "        for i, xd in enumerate(k):\n",
    "            if k[i] == '1':\n",
    "                d[registers - i - 1] += v\n",
    "    return d\n",
    "\n",
    "\n",
    "props = counts_to_probabilities(counts)\n",
    "for i in props:\n",
    "    props[i] /= shots / 100\n",
    "\n",
    "props"
   ]
  },
  {
   "cell_type": "code",
   "execution_count": 4,
   "metadata": {},
   "outputs": [
    {
     "data": {
      "text/plain": [
       "{'Flooding': 0.201,\n",
       " 'River shores flooding': 0.085,\n",
       " 'Waterfront flooding': 0.036000000000000004,\n",
       " 'Flooding of the promenade': 0.027999999999999997,\n",
       " 'Flooding the yard': 0.015,\n",
       " 'Flooding of shopping area': 0.004,\n",
       " 'Buildings inundation': 0.004,\n",
       " 'Flooding of tourist area': 0.008,\n",
       " 'Destruction of hotels': 0.004,\n",
       " 'Flooding of recreational areas': 0.005}"
      ]
     },
     "execution_count": 4,
     "metadata": {},
     "output_type": "execute_result"
    }
   ],
   "source": [
    "names = [\n",
    "    'Flooding',\n",
    "    'River shores flooding',\n",
    "    'Waterfront flooding',\n",
    "    'Flooding of the promenade',\n",
    "    'Flooding the yard',\n",
    "    'Flooding of shopping area',\n",
    "    'Buildings inundation',\n",
    "    'Flooding of tourist area',\n",
    "    'Destruction of hotels',\n",
    "    'Flooding of recreational areas'\n",
    "]\n",
    "\n",
    "props2 = dict()\n",
    "for k, v in props.items():\n",
    "    props2[names[k]] = v / 100\n",
    "\n",
    "props2"
   ]
  },
  {
   "cell_type": "code",
   "execution_count": 5,
   "metadata": {},
   "outputs": [
    {
     "name": "stdout",
     "output_type": "stream",
     "text": [
      "Cost: 85.30000000000001 mln zł!!!!\n"
     ]
    }
   ],
   "source": [
    "costs_per_area = {\n",
    "    'Flooding': 200,\n",
    "    'River shores flooding': 70,\n",
    "    'Waterfront flooding': 150,\n",
    "    'Flooding of the promenade': 240,\n",
    "    'Flooding the yard': 950,\n",
    "    'Flooding of shopping area': 170,\n",
    "    'Buildings inundation': 800,\n",
    "    'Flooding of tourist area': 200,\n",
    "    'Destruction of hotels': 1_200,\n",
    "    'Flooding of recreational areas': 500\n",
    "}\n",
    "\n",
    "expected_costs = 0\n",
    "for k, v in props2.items():\n",
    "    expected_costs += costs_per_area[k] * v\n",
    "\n",
    "print(f'Cost: {expected_costs} mln zł!!!!')"
   ]
  }
 ],
 "metadata": {
  "kernelspec": {
   "display_name": "qiskit",
   "language": "python",
   "name": "python3"
  },
  "language_info": {
   "codemirror_mode": {
    "name": "ipython",
    "version": 3
   },
   "file_extension": ".py",
   "mimetype": "text/x-python",
   "name": "python",
   "nbconvert_exporter": "python",
   "pygments_lexer": "ipython3",
   "version": "3.11.3"
  },
  "orig_nbformat": 4
 },
 "nbformat": 4,
 "nbformat_minor": 2
}
