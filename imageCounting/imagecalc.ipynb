{
 "cells": [
  {
   "cell_type": "code",
   "execution_count": 41,
   "id": "3dc02d90",
   "metadata": {},
   "outputs": [
    {
     "data": {
      "text/plain": [
       "array([[[255,   0, 250],\n",
       "        [255,   0, 250],\n",
       "        [255,   0, 250],\n",
       "        ...,\n",
       "        [255,   0, 250],\n",
       "        [255,   0, 250],\n",
       "        [255,   0, 250]],\n",
       "\n",
       "       [[255,   0, 250],\n",
       "        [255,   0, 250],\n",
       "        [255,   0, 250],\n",
       "        ...,\n",
       "        [255,   0, 250],\n",
       "        [255,   0, 250],\n",
       "        [255,   0, 250]],\n",
       "\n",
       "       [[255,   0, 250],\n",
       "        [255,   0, 250],\n",
       "        [255,   0, 250],\n",
       "        ...,\n",
       "        [255,   0, 250],\n",
       "        [255,   0, 250],\n",
       "        [255,   0, 250]],\n",
       "\n",
       "       ...,\n",
       "\n",
       "       [[255,   0, 250],\n",
       "        [255,   0, 250],\n",
       "        [255,   0, 250],\n",
       "        ...,\n",
       "        [255,   0, 250],\n",
       "        [255,   0, 250],\n",
       "        [255,   0, 250]],\n",
       "\n",
       "       [[255,   0, 250],\n",
       "        [255,   0, 250],\n",
       "        [255,   0, 250],\n",
       "        ...,\n",
       "        [255,   0, 250],\n",
       "        [255,   0, 250],\n",
       "        [255,   0, 250]],\n",
       "\n",
       "       [[255,   0, 250],\n",
       "        [255,   0, 250],\n",
       "        [255,   0, 250],\n",
       "        ...,\n",
       "        [255,   0, 250],\n",
       "        [255,   0, 250],\n",
       "        [255,   0, 250]]], dtype=uint8)"
      ]
     },
     "execution_count": 41,
     "metadata": {},
     "output_type": "execute_result"
    }
   ],
   "source": [
    "from PIL import Image\n",
    "import numpy as np\n",
    "\n",
    "filename = 'gdańsk_FINAL_pink.jpg'\n",
    "image = Image.open(filename)\n",
    "\n",
    "image_array = np.array(image)"
   ]
  },
  {
   "cell_type": "code",
   "execution_count": 42,
   "id": "ca71ef2d",
   "metadata": {},
   "outputs": [],
   "source": [
    "zabudowa_wielorodzinna = np.array([0xd9, 0xb5, 0x87])  #d9b587\n",
    "zabudowa_jednorodzinan = np.array([0xf5, 0xdc, 0xc2])  #f5dcc2\n",
    "teren_przemyslowy = np.array([0xdf, 0xe1, 0xff])  #dfe1ff\n",
    "las_zagajnik_lub_zakrzewienie = np.array([0xd9, 0xb5, 0x87])  #d9b587\n",
    "laka_lub_pastwisko = np.array([0xf8, 0xfc, 0xf5])  #f8fcf5\n",
    "droga_krajowa = np.array([0xff, 0xd5, 0x00])  #ffd500\n",
    "droga_ekspresowa = np.array([0xe4, 0x5d, 0x4d])  #e45d4d"
   ]
  },
  {
   "cell_type": "code",
   "execution_count": 43,
   "id": "d27d11ec",
   "metadata": {
    "scrolled": true
   },
   "outputs": [],
   "source": [
    "def count_category(color):\n",
    "    count = 0\n",
    "    for row in image_array:\n",
    "        for pixel in row:\n",
    "            if (pixel - color < 4).all():\n",
    "                count += 1\n",
    "    return count"
   ]
  },
  {
   "cell_type": "code",
   "execution_count": 44,
   "id": "c16ac765",
   "metadata": {
    "scrolled": true
   },
   "outputs": [],
   "source": [
    "# TODO: rewrite in C++\n",
    "zabudowa_wielorodzinna_px = count_category(zabudowa_wielorodzinna)\n",
    "zabudowa_jednorodzinna_px = count_category(zabudowa_jednorodzinan)\n",
    "teren_przemyslowy_px = count_category(teren_przemyslowy)\n",
    "las_zagajnik_lub_zakrzewienie_px = count_category(las_zagajnik_lub_zakrzewienie)\n",
    "laka_lub_pastwisko_px = count_category(laka_lub_pastwisko)\n",
    "droga_krajowa_px = count_category(droga_krajowa)\n",
    "droga_ekspresowa_px = count_category(droga_ekspresowa)"
   ]
  },
  {
   "cell_type": "code",
   "execution_count": 50,
   "id": "3b84cd44",
   "metadata": {},
   "outputs": [],
   "source": [
    "services_px = 0.3 * zabudowa_wielorodzinna_px\n",
    "dense_housing_px = 0.7 * zabudowa_jednorodzinna_px\n",
    "scattered_housing_px = zabudowa_jednorodzinna_px\n",
    "industrial_px = teren_przemyslowy_px\n",
    "forests_px = las_zagajnik_lub_zakrzewienie_px\n",
    "grass_px = laka_lub_pastwisko_px\n",
    "transport_px = droga_krajowa_px + droga_ekspresowa_px"
   ]
  },
  {
   "cell_type": "code",
   "execution_count": 51,
   "id": "f9fd8e5f",
   "metadata": {},
   "outputs": [],
   "source": [
    "# 131px --- 3km => 1px --- 22.9m => 1px = 524.4m^2 = 0.05244ha\n",
    "px_to_ha = 0.05244\n",
    "services_ha = services_px * px_to_ha\n",
    "dense_housing_ha = dense_housing_px * px_to_ha\n",
    "scattered_housing_ha = scattered_housing_px * px_to_ha\n",
    "industrial_ha = industrial_px * px_to_ha\n",
    "forests_ha = forests_px * px_to_ha\n",
    "grass_ha =grass_px * px_to_ha\n",
    "tranpsort_ha = transport_px * px_to_ha"
   ]
  },
  {
   "attachments": {},
   "cell_type": "markdown",
   "id": "f9d7e2b4",
   "metadata": {},
   "source": [
    "### Costs"
   ]
  },
  {
   "cell_type": "code",
   "execution_count": 55,
   "id": "0899c899",
   "metadata": {},
   "outputs": [
    {
     "name": "stdout",
     "output_type": "stream",
     "text": [
      "\n",
      "scervices: 4647.66\n",
      "dense_housing: 16432.97\n",
      "scattered_housing: 15885.03\n",
      "transport: 437.36\n",
      "forests: 133.49\n",
      "grass: 411.35\n",
      "industrial: 3709.83\n",
      "\n"
     ]
    }
   ],
   "source": [
    "# https://link.springer.com/article/10.1007/s11069-016-2619-z/tables/1\n",
    "# Land use, Value (PLN per ha)\n",
    "# Built-up: services = 4,294,000\n",
    "# Built-up: housing (dense urban) = 2,802,000\n",
    "# Built-up: housing (scattered urban) = 1,896,000\n",
    "# Transport areas, non-built-up areas = 559,000\n",
    "# Built-up: agricultural = 453,000\n",
    "# Built-up: industrial = 444,000\n",
    "# Forests = 37,976\n",
    "services_cost = round(services_ha * 4.294, 2)\n",
    "dense_housing_cost = round(dense_housing_ha * 2.802, 2)\n",
    "scattered_housing_cost = round(scattered_housing_ha * 1.896, 2)\n",
    "transport_cost = round(tranpsort_ha * 0.559, 2)\n",
    "forests_cost = round(forests_ha * 0.037, 2)\n",
    "grass_cost = round(grass_ha * 0.020, 2)\n",
    "industrial_cost = round(industrial_ha * 0.444, 2)\n",
    "print(f'''\n",
    "scervices: {services_cost}\n",
    "dense_housing: {dense_housing_cost}\n",
    "scattered_housing: {scattered_housing_cost}\n",
    "transport: {transport_cost}\n",
    "forests: {forests_cost}\n",
    "grass: {grass_cost}\n",
    "industrial: {industrial_cost}\n",
    "''')"
   ]
  }
 ],
 "metadata": {
  "kernelspec": {
   "display_name": "Python 3 (ipykernel)",
   "language": "python",
   "name": "python3"
  },
  "language_info": {
   "codemirror_mode": {
    "name": "ipython",
    "version": 3
   },
   "file_extension": ".py",
   "mimetype": "text/x-python",
   "name": "python",
   "nbconvert_exporter": "python",
   "pygments_lexer": "ipython3",
   "version": "3.11.3"
  }
 },
 "nbformat": 4,
 "nbformat_minor": 5
}
