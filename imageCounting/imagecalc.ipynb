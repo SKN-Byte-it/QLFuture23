{
 "cells": [
  {
   "cell_type": "code",
   "execution_count": 1,
   "id": "15e0e913",
   "metadata": {},
   "outputs": [
    {
     "name": "stdout",
     "output_type": "stream",
     "text": [
      "Requirement already satisfied: pillow in g:\\programms\\conda\\lib\\site-packages (9.4.0)\n",
      "Requirement already satisfied: numpy in g:\\programms\\conda\\lib\\site-packages (1.23.5)\n"
     ]
    }
   ],
   "source": [
    "!pip install pillow\n",
    "!pip install numpy"
   ]
  },
  {
   "cell_type": "code",
   "execution_count": 2,
   "id": "3dc02d90",
   "metadata": {},
   "outputs": [
    {
     "name": "stdout",
     "output_type": "stream",
     "text": [
      "[[[ 51  51  51]\n",
      "  [ 51  51  51]\n",
      "  [ 51  51  51]\n",
      "  ...\n",
      "  [ 51  51  51]\n",
      "  [ 51  51  51]\n",
      "  [ 51  51  51]]\n",
      "\n",
      " [[ 51  51  51]\n",
      "  [ 51  51  51]\n",
      "  [ 51  51  51]\n",
      "  ...\n",
      "  [ 51  51  51]\n",
      "  [ 51  51  51]\n",
      "  [ 51  51  51]]\n",
      "\n",
      " [[ 51  51  51]\n",
      "  [ 51  51  51]\n",
      "  [ 51  51  51]\n",
      "  ...\n",
      "  [ 51  51  51]\n",
      "  [ 51  51  51]\n",
      "  [ 51  51  51]]\n",
      "\n",
      " ...\n",
      "\n",
      " [[204 230 204]\n",
      "  [204 230 204]\n",
      "  [204 230 204]\n",
      "  ...\n",
      "  [212 192 192]\n",
      "  [118  43  43]\n",
      "  [249 236 236]]\n",
      "\n",
      " [[204 230 204]\n",
      "  [204 230 204]\n",
      "  [204 230 204]\n",
      "  ...\n",
      "  [220 204 204]\n",
      "  [130  65  65]\n",
      "  [245 210 210]]\n",
      "\n",
      " [[204 230 204]\n",
      "  [204 230 204]\n",
      "  [204 230 204]\n",
      "  ...\n",
      "  [215 206 206]\n",
      "  [163 135 135]\n",
      "  [231 174 174]]]\n"
     ]
    }
   ],
   "source": [
    "from PIL import Image\n",
    "import numpy as np\n",
    "\n",
    "filename = 'image.png'\n",
    "image = Image.open(filename)\n",
    "\n",
    "image_array = np.array(image)\n",
    "print(image_array)"
   ]
  },
  {
   "cell_type": "code",
   "execution_count": 3,
   "id": "ca71ef2d",
   "metadata": {},
   "outputs": [],
   "source": [
    "housing = np.array([[217, 181, 135],\n",
    "                   [245, 220, 194]])\n",
    "\n",
    "industry = np.array([223, 225, 255])\n",
    "\n",
    "green_areas = np.array([[205, 230, 205],\n",
    "                        [229, 235, 194],\n",
    "                        [238, 242, 206],\n",
    "                        [248, 252, 245]])"
   ]
  },
  {
   "cell_type": "code",
   "execution_count": 24,
   "id": "9a972b91",
   "metadata": {},
   "outputs": [],
   "source": [
    "## brute kurea force ez\n",
    "def count(color):\n",
    "    counter = 0\n",
    "    ir = lambda a, b: abs(a-b) < 4\n",
    "    \n",
    "    for column in image_array:\n",
    "        for pixel in column:\n",
    "            if (ir(pixel[0], column[0]) &\n",
    "                ir(pixel[1], column[1]) &\n",
    "                ir(pixel[2], column[2])).all():\n",
    "                counter += 1\n",
    "    return counter\n",
    "\n",
    "def count_a(colors):\n",
    "    counter = 0\n",
    "    for color in colors:\n",
    "        counter += count(color)\n",
    "    return counter"
   ]
  },
  {
   "cell_type": "code",
   "execution_count": 30,
   "id": "d27d11ec",
   "metadata": {
    "scrolled": true
   },
   "outputs": [
    {
     "data": {
      "text/plain": [
       "1735384"
      ]
     },
     "execution_count": 30,
     "metadata": {},
     "output_type": "execute_result"
    }
   ],
   "source": [
    "# size of image\n",
    "1864*931"
   ]
  },
  {
   "cell_type": "code",
   "execution_count": 31,
   "id": "c16ac765",
   "metadata": {
    "scrolled": true
   },
   "outputs": [
    {
     "name": "stdout",
     "output_type": "stream",
     "text": [
      "RATES\n",
      "housing= 79258 \n",
      "industry= 118887 \n",
      "green_areas= 158516\n"
     ]
    }
   ],
   "source": [
    "print(\"RATES\\nhousing=\", count_a(housing), \n",
    "      \"\\nindustry=\", count_a(industry), \n",
    "      \"\\ngreen_areas=\", count_a(green_areas))"
   ]
  },
  {
   "cell_type": "code",
   "execution_count": null,
   "id": "e3e95d05",
   "metadata": {},
   "outputs": [],
   "source": [
    "image2 = Image.open(filename)\n",
    "image2_array = np.array(image2)\n",
    "\n"
   ]
  },
  {
   "cell_type": "code",
   "execution_count": null,
   "id": "6d6208c4",
   "metadata": {},
   "outputs": [],
   "source": []
  }
 ],
 "metadata": {
  "kernelspec": {
   "display_name": "Python 3 (ipykernel)",
   "language": "python",
   "name": "python3"
  },
  "language_info": {
   "codemirror_mode": {
    "name": "ipython",
    "version": 3
   },
   "file_extension": ".py",
   "mimetype": "text/x-python",
   "name": "python",
   "nbconvert_exporter": "python",
   "pygments_lexer": "ipython3",
   "version": "3.10.9"
  }
 },
 "nbformat": 4,
 "nbformat_minor": 5
}
